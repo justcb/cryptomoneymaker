{
 "cells": [
  {
   "cell_type": "code",
   "execution_count": 1,
   "id": "e67710be-2f28-459c-b9fa-368fcaaba16c",
   "metadata": {},
   "outputs": [
    {
     "name": "stdout",
     "output_type": "stream",
     "text": [
      "{}\n"
     ]
    }
   ],
   "source": [
    "# pip install spyder\n",
    "# pip install python-binance\n",
    "\n",
    "from binance.client import Client\n",
    "import pandas as pd\n",
    "import datetime\n",
    "\n",
    "api_key = \n",
    "api_secret = \n",
    "client=Client(api_key,api_secret)\n",
    "\n",
    "print(client.ping())"
   ]
  },
  {
   "cell_type": "code",
   "execution_count": 2,
   "id": "75461987-8bbc-4b6d-8712-7455213cf4ea",
   "metadata": {
    "tags": []
   },
   "outputs": [],
   "source": [
    "tickers = [\"BTC\",\"LTC\",\"ETH\",\"ADA\",\"THETA\"]\n",
    "for ticker in tickers:\n",
    "\n",
    "    ticker1 = ticker\n",
    "    ticker2 = \"USDT\"\n",
    "\n",
    "    asset= \"{}{}\".format(ticker1,ticker2)\n",
    "    dataframe_name = \"df_{}\".format(asset)\n",
    "    start=\"2020.10.1\"\n",
    "    end = \"2022.4.1\"\n",
    "\n",
    "    timeframe=\"1h\"\n",
    "    Client.KLINE_INTERVAL_1HOUR\n",
    "\n",
    "    dataframe_name= pd.DataFrame(client.get_historical_klines(asset, timeframe,start,end, limit = 1000))\n",
    "    dataframe_name=dataframe_name.iloc[:,:6]\n",
    "    dataframe_name.columns=[\"Date\",\"Open\",\"High\",\"Low\",\"Close\",\"Volume\"]\n",
    "    dataframe_name=dataframe_name.set_index(\"Date\")\n",
    "    dataframe_name.index = pd.to_datetime(dataframe_name.index, unit='ms')\n",
    "    dataframe_name=dataframe_name.astype(\"float\")\n",
    "\n",
    "    dataframe_name = pd.DataFrame(dataframe_name)\n",
    "\n",
    "    #dataframe_name.head()\n",
    "    #dataframe_name.tail()\n",
    "    \n",
    "    # send data frame to csv file.\n",
    "\n",
    "    filename_file = \"Resources/{}_{}_to_{}.csv\".format(asset,start,end)\n",
    "\n",
    "    dataframe_name.to_csv(filename_file, index = True)"
   ]
  },
  {
   "cell_type": "code",
   "execution_count": null,
   "id": "4dca45e3-9eb6-4866-9975-4cc321a3273a",
   "metadata": {},
   "outputs": [],
   "source": []
  },
  {
   "cell_type": "code",
   "execution_count": null,
   "id": "8a52bbe4-1013-4461-b61e-e3aa6abbc922",
   "metadata": {},
   "outputs": [],
   "source": []
  }
 ],
 "metadata": {
  "interpreter": {
   "hash": "8578c2af745ef65594790124839cb7a5e711d84ea12473c5091fa52c2d5e77c1"
  },
  "kernelspec": {
   "display_name": "Python (apidev)",
   "language": "python",
   "name": "python3"
  },
  "language_info": {
   "codemirror_mode": {
    "name": "ipython",
    "version": 3
   },
   "file_extension": ".py",
   "mimetype": "text/x-python",
   "name": "python",
   "nbconvert_exporter": "python",
   "pygments_lexer": "ipython3",
   "version": "3.9.7"
  }
 },
 "nbformat": 4,
 "nbformat_minor": 5
}
